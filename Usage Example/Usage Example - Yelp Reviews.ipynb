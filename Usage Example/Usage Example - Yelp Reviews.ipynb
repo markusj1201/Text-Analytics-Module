{
 "cells": [
  {
   "cell_type": "markdown",
   "metadata": {},
   "source": [
    "# Yelp Academic dataset\n",
    "\n",
    "Yelp released an [academic dataset](https://www.yelp.com/dataset/challenge) to engage ML researchers in solving their problems, particularly those related to image processing and natural language processing (NLP).\n",
    "\n",
    "We'll do an intro to NLP methods using some functions I wrote that simplifies some of the processes involved. I use mostly Spacy and Gensim here, but here are some libraries that I've found helpful in other applications:\n",
    "\n",
    "1. [Spacy](https://spacy.io/) - tokenizing, tagging, part of speech, entity recognition, etc.\n",
    "2. [Gensim](https://radimrehurek.com/gensim/) - topic modeling, phrase modeling, etc.\n",
    "3. [NLTK](https://www.nltk.org/) - tokenizing, tagging, part of speech, entity recognition, etc.\n",
    "4. [Pattern](https://www.clips.uantwerpen.be/pattern) - tokenizing, tagging, part of speech, entity recognition, etc.\n",
    "5. [PyLdaVis](https://github.com/bmabey/pyLDAvis) - visualize LDA topics (port from R)\n",
    "6. [wordcloud](https://github.com/amueller/word_cloud) - creating word clouds\n",
    "7. [fuzzywuzzy](https://github.com/seatgeek/fuzzywuzzy) - fuzzy text matching"
   ]
  },
  {
   "cell_type": "markdown",
   "metadata": {},
   "source": [
    "# Read in some data"
   ]
  },
  {
   "cell_type": "code",
   "execution_count": 4,
   "metadata": {
    "collapsed": true
   },
   "outputs": [],
   "source": [
    "import sys, pandas as pd, numpy as np, os, random, ujson, codecs\n",
    "scriptpath = \"../Code/\"\n",
    "sys.path.append(scriptpath)\n",
    "import spacy, re, gensim, numpy as np, pandas as pd, json, codecs, pyLDAvis, warnings\n",
    "from gensim.models import Phrases, Word2Vec\n",
    "from gensim.corpora import Dictionary, MmCorpus\n",
    "from gensim.models.ldamulticore import LdaMulticore\n",
    "from gensim.models.word2vec import LineSentence\n",
    "from collections import Counter\n",
    "from itertools import chain\n",
    "from matplotlib import pyplot as plt\n",
    "from sklearn.manifold import TSNE\n",
    "import basic_text_processing_functions as tx\n",
    "floc = 'C:/Users/yangy/Documents/Data/Yelp/yelp_dataset_challenge_round9/yelp_dataset_challenge_round9/' # Download the dataset locally and change the floc to the correct place"
   ]
  },
  {
   "cell_type": "code",
   "execution_count": 5,
   "metadata": {
    "scrolled": true
   },
   "outputs": [
    {
     "data": {
      "text/plain": [
       "['._Dataset_Challenge_Dataset_Agreement.pdf',\n",
       " '._Yelp_Dataset_Challenge_Terms_round_9.pdf',\n",
       " 'Dataset_Challenge_Dataset_Agreement.pdf',\n",
       " 'PaxHeader',\n",
       " 'texts_only.txt',\n",
       " 'yelp_academic_dataset_business.json',\n",
       " 'yelp_academic_dataset_checkin.json',\n",
       " 'yelp_academic_dataset_review.json',\n",
       " 'yelp_academic_dataset_tip.json',\n",
       " 'yelp_academic_dataset_user.json',\n",
       " 'Yelp_Dataset_Challenge_Terms_round_9.pdf']"
      ]
     },
     "execution_count": 5,
     "metadata": {},
     "output_type": "execute_result"
    }
   ],
   "source": [
    "fnames = os.listdir(floc) # these are the files that the dataset comes with (there's another folder for photos)\n",
    "fnames"
   ]
  },
  {
   "cell_type": "code",
   "execution_count": 158,
   "metadata": {
    "collapsed": true
   },
   "outputs": [],
   "source": [
    "fname = 'yelp_academic_dataset_review.json' # reviews data\n",
    "# data = pd.read_json(floc+fname,  lines=True, encoding = 'utf-8') # load json data using ujson"
   ]
  },
  {
   "cell_type": "code",
   "execution_count": 159,
   "metadata": {
    "collapsed": true
   },
   "outputs": [],
   "source": [
    "import codecs\n",
    "with codecs.open(floc+fname,'r' ,encoding = 'utf-8') as f:\n",
    "    data = f.readlines()"
   ]
  },
  {
   "cell_type": "code",
   "execution_count": 160,
   "metadata": {},
   "outputs": [
    {
     "data": {
      "text/plain": [
       "{u'business_id': u'2aFiy99vNLklCx3T_tGS9A',\n",
       " u'cool': 0,\n",
       " u'date': u'2011-10-10',\n",
       " u'funny': 0,\n",
       " u'review_id': u'NxL8SIC5yqOdnlXCg18IBg',\n",
       " u'stars': 5,\n",
       " u'text': u\"If you enjoy service by someone who is as competent as he is personable, I would recommend Corey Kaplan highly. The time he has spent here has been very productive and working with him educational and enjoyable. I hope not to need him again (though this is highly unlikely) but knowing he is there if I do is very nice. By the way, I'm not from El Centro, CA. but Scottsdale, AZ.\",\n",
       " u'type': u'review',\n",
       " u'useful': 0,\n",
       " u'user_id': u'KpkOkG6RIf4Ra25Lhhxf1A'}"
      ]
     },
     "execution_count": 160,
     "metadata": {},
     "output_type": "execute_result"
    }
   ],
   "source": [
    "import ujson\n",
    "d = ujson.loads(data[0]) # each line is one review\n",
    "d"
   ]
  },
  {
   "cell_type": "code",
   "execution_count": 161,
   "metadata": {},
   "outputs": [
    {
     "data": {
      "text/plain": [
       "[u'funny',\n",
       " u'user_id',\n",
       " u'review_id',\n",
       " u'text',\n",
       " u'business_id',\n",
       " u'stars',\n",
       " u'date',\n",
       " u'useful',\n",
       " u'type',\n",
       " u'cool']"
      ]
     },
     "execution_count": 161,
     "metadata": {},
     "output_type": "execute_result"
    }
   ],
   "source": [
    "d.keys() # These are the variables included"
   ]
  },
  {
   "cell_type": "markdown",
   "metadata": {},
   "source": [
    "For our purposes, we really only care about the text field. Let's write this off into a separet file."
   ]
  },
  {
   "cell_type": "code",
   "execution_count": 10,
   "metadata": {},
   "outputs": [
    {
     "data": {
      "text/plain": [
       "u\"The kind of breakfast you should expect from a cheap hotel buffet. Powdered eggs and crepes with a side of tasty taters. Plus the coffee tastes like... Well it's tasteless.\\nService reminds me of Canadian Tire.\""
      ]
     },
     "execution_count": 10,
     "metadata": {},
     "output_type": "execute_result"
    }
   ],
   "source": [
    "import random\n",
    "ujson.loads(random.choice(data))['text'] # this is how we would get a text"
   ]
  },
  {
   "cell_type": "code",
   "execution_count": 14,
   "metadata": {
    "collapsed": true
   },
   "outputs": [],
   "source": [
    "if 1==0:\n",
    "    with codecs.open(floc+'texts_only.txt','w' ,encoding = 'utf-8') as f:\n",
    "        for d in data:\n",
    "            dat = ujson.loads(d)['text'].strip().replace(u'\\n', u' ')\n",
    "            if len(dat)>1:\n",
    "                f.write(dat+u'\\n')"
   ]
  },
  {
   "cell_type": "code",
   "execution_count": 15,
   "metadata": {},
   "outputs": [
    {
     "name": "stdout",
     "output_type": "stream",
     "text": [
      "4156042\n"
     ]
    }
   ],
   "source": [
    "fname = 'texts_only.txt'\n",
    "with codecs.open(floc+fname,'r' ,encoding = 'utf-8') as f:\n",
    "    data = f.readlines()\n",
    "print(len(data))"
   ]
  },
  {
   "cell_type": "code",
   "execution_count": 16,
   "metadata": {},
   "outputs": [
    {
     "data": {
      "text/plain": [
       "u'Stopped by today to pick up a pint of vegan ice cream for the house and their special was Vegan Chocolate Ice Cream w/ bits of choco chip cookie & peanut butter - DIVINE!'"
      ]
     },
     "execution_count": 16,
     "metadata": {},
     "output_type": "execute_result"
    }
   ],
   "source": [
    "random.choice(data).strip() # look at a random line"
   ]
  },
  {
   "cell_type": "markdown",
   "metadata": {},
   "source": [
    "# First, normalize these texts\n",
    "\n",
    "In written language, we have grammar rules, normal sentence structures, punctuations, etc... but even when the writng is no good like this bad sentence be still meaning understand.\n",
    "\n",
    "This is because the important words remain. Much of the text analysis tools use this idea of \"bag of words\" to extract meaning from texts.\n",
    "\n",
    "Before we do this, we can convert words to normalized forms, i.e. infinitive forms of verbs: Am,is,were,are,was$\\rightarrow$be and singular forms of nouns: drinks$\\rightarrow$drink.\n",
    "\n",
    "There are several packages to deal with this: NLTK, Pattern, Textblob (uses NLTK/Pattern), Spacy.\n",
    "\n",
    "I wrote my code to work with Spacy 1.9, after upgrading to 2.x, it seems to be a lot slower. There's a current open issue for this on Spacy's [GitHub page](https://github.com/explosion/spaCy/issues/1508)."
   ]
  },
  {
   "cell_type": "code",
   "execution_count": 23,
   "metadata": {
    "collapsed": true
   },
   "outputs": [],
   "source": [
    "# Save my current configuration\n",
    "# write config file for the text processing functions\n",
    "path = 'text_analysis/'\n",
    "pathloc = floc + path\n",
    "if 1==0:\n",
    "    with codecs.open(floc+path+'default.cfg', 'w', encoding = 'utf-8') as f:\n",
    "        f.write(json.dumps({'batch_size':1000, 'n_threads':8,\n",
    "                            'fpathroot':floc+path, 'fpathappend':u'', 'entity_sub':True}))\n",
    "else:\n",
    "    tx.batch_size, tx.n_threads, tx.fpathroot, tx.fpathappend, tx.entity_sub, tx.numtopics=tx._config_text_analysis_(floc+path+'default.cfg')\n",
    "#     tx.batch_size, tx.n_threads, tx.fpathroot, tx.fpathappend, tx.entity_sub, tx.numtopics = batch_size, n_threads, fpathroot, fpathappend, entity_sub, numtopics"
   ]
  },
  {
   "cell_type": "code",
   "execution_count": 29,
   "metadata": {
    "collapsed": true
   },
   "outputs": [],
   "source": [
    "# this step takes a while, needs af fix on spacy's end, going back to v1.9 or Pattern/NLTK\n",
    "if 1 == 0:\n",
    "    tx._write_unigram_(floc+fname,\n",
    "                       unigram_sentences_filepath=tx.fpathroot+tx.fpathappend+'_sent_gram_0.txt',\n",
    "                       entity_sub=True)"
   ]
  },
  {
   "cell_type": "markdown",
   "metadata": {},
   "source": [
    "# Next, create phrase models (colocation detector)"
   ]
  },
  {
   "cell_type": "code",
   "execution_count": 152,
   "metadata": {
    "collapsed": true
   },
   "outputs": [],
   "source": [
    "passes = 2\n",
    "if 1==0:\n",
    "    ngrams = tx._phrase_detection_(fpath=tx.fpathroot+tx.fpathappend, passes = passes, returnmodels = True, threshold = 10.)\n",
    "else:\n",
    "    ngrams = list()\n",
    "    gramfiles = os.listdir(tx.fpathroot)\n",
    "    phrasemodels = [tx.fpathroot+g for g in gramfiles if 'phrase_model' in g]\n",
    "    for m in phrasemodels:\n",
    "        ngrams.append(Phrases.load(m))"
   ]
  },
  {
   "cell_type": "code",
   "execution_count": 110,
   "metadata": {
    "collapsed": true
   },
   "outputs": [],
   "source": [
    "with codecs.open(tx.fpathroot+'_sent_gram_0.txt','r' ,encoding = 'utf-8') as f:\n",
    "    raw = f.readlines()\n",
    "raw = [r for r in raw if len(r.strip())>0]\n",
    "with codecs.open(tx.fpathroot+'sent_gram_{}.txt'.format(passes),'r' ,encoding = 'utf-8') as f:\n",
    "    gram = f.readlines()"
   ]
  },
  {
   "cell_type": "code",
   "execution_count": 163,
   "metadata": {},
   "outputs": [
    {
     "name": "stdout",
     "output_type": "stream",
     "text": [
      "course PRON leave vegan salt caramel cantaloupe gelato\n",
      "\n",
      "course PRON leave vegan salt_caramel cantaloupe gelato\n",
      "\n"
     ]
    }
   ],
   "source": [
    "n = np.random.choice(range(len(raw)))\n",
    "print raw[n]\n",
    "print gram[n]"
   ]
  },
  {
   "cell_type": "markdown",
   "metadata": {},
   "source": [
    "# Typically, we want to apply parser/phrase models to doc level"
   ]
  },
  {
   "cell_type": "code",
   "execution_count": 33,
   "metadata": {
    "collapsed": true
   },
   "outputs": [],
   "source": [
    "regram = 0 # change to 1 to organize bags of words by documents (vs. sentences)\n",
    "# passes = 2\n",
    "if regram == 1:\n",
    "    if 1==1:\n",
    "        grammed_reviews = tx._phrase_prediction_(tx.fpathroot+fname, ngrams, outfpath = tx.fpathroot+tx.fpathappend+'grammed_texts.txt', entity_sub = True)\n",
    "    else:\n",
    "        grammed_reviews = tx.fpathroot+'grammed_texts.txt'\n",
    "else:\n",
    "    grammed_reviews = tx.fpathroot+'sent_gram_{}.txt'.format(passes)"
   ]
  },
  {
   "cell_type": "markdown",
   "metadata": {},
   "source": [
    "# Create dictionary by filtering out common/uncommon tokens\n",
    "\n",
    "This step is *SUPER* critical and a lot of the (re)iterations come with changes to this step. Garbage in gabage out still applies, but the problem is it's often hard to tell if you have garbage before you do the topic analysis.\n",
    "\n",
    "Rule of thumb: You want to get rid of your most and least frequent 20% of words. You can get rid of less of the most frequent words if your least frequent words are plentiful... this is typically the case for working with user generated content. People can't read good and or do other stuff good too.\n",
    "\n",
    "![zoolander](https://www.dropbox.com/s/a70gdqzc2nurnrq/zoolander.png?dl=1)"
   ]
  },
  {
   "cell_type": "code",
   "execution_count": 153,
   "metadata": {},
   "outputs": [
    {
     "name": "stdout",
     "output_type": "stream",
     "text": [
      "Success\n"
     ]
    }
   ],
   "source": [
    "vocab, gensim_dictionary, cts = tx._make_dict_(grammed_reviews,\n",
    "                                          floc = tx.fpathroot+tx.fpathappend+'dict_gram.dict',\n",
    "                                          topfilter = 90,bottomfilter = 20,\n",
    "                                          no_filters=False, keep_ent=False, \n",
    "                                         discard_list={},\n",
    "                                         keep_list = {})"
   ]
  },
  {
   "cell_type": "code",
   "execution_count": 164,
   "metadata": {},
   "outputs": [
    {
     "data": {
      "text/plain": [
       "75539"
      ]
     },
     "execution_count": 164,
     "metadata": {},
     "output_type": "execute_result"
    }
   ],
   "source": [
    "len(vocab)"
   ]
  },
  {
   "cell_type": "markdown",
   "metadata": {},
   "source": [
    "# Create serialized representation of corpus (token id's instead of tokens)\n",
    "\n",
    "This step in th eprocess also filters out vocab not in dictionary"
   ]
  },
  {
   "cell_type": "code",
   "execution_count": 154,
   "metadata": {
    "collapsed": true
   },
   "outputs": [],
   "source": [
    "if 1==1: \n",
    "    grammed_corpus = tx._serialize_corpus_(grammed_reviews, gensim_dictionary,  outfpath = tx.fpathroot+tx.fpathappend+'_serialized.mm')\n",
    "else:\n",
    "    grammed_corpus_loc= tx.fpathroot+tx.fpathappend+'_serialized.mm'\n",
    "    grammed_corpus = MmCorpus(grammed_corpus_loc)"
   ]
  },
  {
   "cell_type": "markdown",
   "metadata": {},
   "source": [
    "# Do some kind of topic modeling (LDA here)\n",
    "\n",
    "Some common types of topic modeling for texts:\n",
    "\n",
    "1. TF-IDF, term frequency * inverse document frequency (TF-IDF). This is a weighting scheme to represent the importance of each word to identifying the document.\n",
    "    1. Fast\n",
    "    2. Easy to implement\n",
    "    3. Great for things like matching company names in Hilton San Diego, Hilton is more relevant than San Diego, especially if San Diego is lumped together with other location entities (\"GPE\" in Spacy), it gets more weight.\n",
    "2. Latent semantic indexing (LSI). Matrix decomposition method (at its core a SVD based deconstruction) to find the \"principle components\" of sparse matrix spaces, think of it as finding the span of the vectorized token space. The token vectors used as inputs are commonly TF-IDF representations.\n",
    "    1. Relatively fast, does not require maximizing likelihood functions, etc.\n",
    "    2. Reduces dimensions (vs. TF-IDF)\n",
    "    3. Has both positive and negative weights to define \"topics.\" Negative weights mean the topic is less likely if its associated token is in a document.\n",
    "    4. Great alternative to LDA.\n",
    "3. [Latent Dirichlet Allocation](http://ai.stanford.edu/~ang/papers/jair03-lda.pdf) (LDA). A generative hierarchical model of word distributions. Specifies a nested distributional structures where documents are distributions of topics which are in turn distributions over the (entire) vocabulary.\n",
    "    1. Slower, but Gensim has a multicore implementation that reduces runtime to hours (vs days/weeks)\n",
    "    2. Richer representation of topics\n",
    "    3. Probably the standard that one would compare newer methods (typically variants of LDA) to.\n",
    "\n",
    "A nice graphical illustration of LDA:\n",
    "![LDA overview](../Figures/LDA.png)\n",
    "\n",
    "The multicore version is a Godsend!\n",
    "![running cores](https://www.dropbox.com/s/ly2jzk303e613rn/Screenshot%202018-02-22%2013.50.18.png?dl=1)"
   ]
  },
  {
   "cell_type": "code",
   "execution_count": 37,
   "metadata": {
    "collapsed": true
   },
   "outputs": [],
   "source": [
    "ntopics = 10\n",
    "ldafile = 'lda_'+str(ntopics)\n",
    "if 1 ==0:\n",
    "    lda = tx._lda_(gensim_dictionary, corpus_path = grammed_corpus, numtopics= ntopics,iterations=25) # defaults to 10 topics\n",
    "    lda.save(tx.fpathroot+ldafile)\n",
    "else: \n",
    "    lda = LdaMulticore.load(tx.fpathroot+ldafile)"
   ]
  },
  {
   "cell_type": "code",
   "execution_count": 165,
   "metadata": {
    "scrolled": false
   },
   "outputs": [
    {
     "data": {
      "text/plain": [
       "[(0,\n",
       "  u'0.047*\"price_reasonable\" + 0.042*\"right_away\" + 0.023*\"big_deal\" + 0.018*\"fry_chicken\" + 0.012*\"bottle_wine\" + 0.012*\"totally_worth\" + 0.011*\"grill_cheese\" + 0.011*\"large_party\" + 0.009*\"ahead_time\" + 0.009*\"fine_dining\"'),\n",
       " (1,\n",
       "  u'0.027*\"hard_find\" + 0.026*\"walk_away\" + 0.019*\"hit_miss\" + 0.019*\"sound_like\" + 0.013*\"price_fair\" + 0.011*\"answer_question\" + 0.010*\"large_selection\" + 0.009*\"far_away\" + 0.006*\"lobster_roll\" + 0.005*\"plenty_parking\"'),\n",
       " (2,\n",
       "  u'0.023*\"high_end\" + 0.016*\"bit_pricey\" + 0.011*\"sweet_potato\" + 0.010*\"group_friend\" + 0.009*\"outdoor_seating\" + 0.009*\"family_member\" + 0.008*\"old_fashioned\" + 0.008*\"bit_high\" + 0.007*\"regular_basis\" + 0.007*\"convenient_location\"'),\n",
       " (3,\n",
       "  u'0.064*\"definitely_recommend\" + 0.043*\"little_bit\" + 0.020*\"friendly_helpful\" + 0.019*\"walk_door\" + 0.015*\"and_or\" + 0.014*\"sport_bar\" + 0.013*\"special_occasion\" + 0.013*\"stay_hotel\" + 0.009*\"save_money\" + 0.009*\"worth_drive\"'),\n",
       " (4,\n",
       "  u'0.054*\"great_job\" + 0.032*\"read_review\" + 0.018*\"absolutely_delicious\" + 0.017*\"brand_new\" + 0.014*\"price_high\" + 0.014*\"amazing_job\" + 0.012*\"cook_perfection\" + 0.010*\"seat_right_away\" + 0.008*\"price_range\" + 0.007*\"meat_cheese\"'),\n",
       " (5,\n",
       "  u'0.051*\"look_forward\" + 0.042*\"reasonable_price\" + 0.018*\"long_line\" + 0.012*\"family_friend\" + 0.009*\"thin_crust\" + 0.008*\"pork_chop\" + 0.008*\"brussel_sprout\" + 0.007*\"white_rice\" + 0.006*\"bit_dry\" + 0.006*\"bottle_water\"'),\n",
       " (6,\n",
       "  u'0.028*\"menu_item\" + 0.027*\"dining_room\" + 0.018*\"car_wash\" + 0.014*\"staff_friendly_helpful\" + 0.012*\"nice_helpful\" + 0.010*\"comfort_food\" + 0.009*\"pretty_standard\" + 0.008*\"gas_station\" + 0.008*\"peanut_butter\" + 0.007*\"service_impeccable\"'),\n",
       " (7,\n",
       "  u'0.097*\"taste_like\" + 0.025*\"definitely_return\" + 0.018*\"mac_cheese\" + 0.017*\"huge_fan\" + 0.015*\"dipping_sauce\" + 0.014*\"blow_away\" + 0.014*\"pay_attention\" + 0.012*\"staff_helpful\" + 0.011*\"spend_money\" + 0.010*\"pad_thai\"'),\n",
       " (8,\n",
       "  u'0.034*\"write_review\" + 0.024*\"service_slow\" + 0.023*\"hot_dog\" + 0.019*\"fish_taco\" + 0.013*\"small_plate\" + 0.011*\"baked_good\" + 0.011*\"portion_small\" + 0.010*\"shopping_center\" + 0.010*\"fall_apart\" + 0.009*\"meet_friend\"'),\n",
       " (9,\n",
       "  u'0.019*\"lunch_dinner\" + 0.011*\"bubble_tea\" + 0.011*\"cream_cheese\" + 0.009*\"pleasant_experience\" + 0.008*\"chicken_breast\" + 0.008*\"olive_oil\" + 0.007*\"brown_rice\" + 0.007*\"pull_pork_sandwich\" + 0.006*\"salt_pepper\" + 0.006*\"mixed_drink\"'),\n",
       " (10,\n",
       "  u'0.022*\"bar_area\" + 0.018*\"co_worker\" + 0.014*\"french_fry\" + 0.010*\"low_price\" + 0.010*\"excited_try\" + 0.008*\"soy_sauce\" + 0.008*\"high_hope\" + 0.008*\"right_street\" + 0.007*\"potato_salad\" + 0.007*\"whip_cream\"'),\n",
       " (11,\n",
       "  u'0.082*\"staff_friendly\" + 0.030*\"high_quality\" + 0.023*\"oil_change\" + 0.021*\"hot_sauce\" + 0.020*\"definitely_worth\" + 0.017*\"friend_family\" + 0.016*\"wine_list\" + 0.013*\"sushi_roll\" + 0.013*\"portion_huge\" + 0.012*\"hidden_gem\"'),\n",
       " (12,\n",
       "  u'0.023*\"portion_size\" + 0.019*\"smell_like\" + 0.013*\"sub_par\" + 0.012*\"don_t\" + 0.012*\"decent_price\" + 0.012*\"i_e\" + 0.010*\"green_tea\" + 0.009*\"cute_little\" + 0.009*\"oh_yeah\" + 0.009*\"chicken_tender\"'),\n",
       " (13,\n",
       "  u'0.033*\"sit_bar\" + 0.020*\"main_course\" + 0.014*\"fair_price\" + 0.013*\"lot_fun\" + 0.013*\"lunch_buffet\" + 0.010*\"hash_brown\" + 0.009*\"tomato_sauce\" + 0.009*\"butter_chicken\" + 0.009*\"sit_patio\" + 0.006*\"bento_box\"'),\n",
       " (14,\n",
       "  u'0.021*\"chip_salsa\" + 0.016*\"dim_sum\" + 0.016*\"hair_cut\" + 0.014*\"hole_wall\" + 0.013*\"bad_customer_service\" + 0.012*\"crab_cake\" + 0.010*\"pasta_dish\" + 0.009*\"seating_area\" + 0.007*\"previous_review\" + 0.007*\"vegetarian_option\"'),\n",
       " (15,\n",
       "  u'0.016*\"large_portion\" + 0.016*\"chicken_wing\" + 0.016*\"people_watch\" + 0.011*\"pool_area\" + 0.011*\"taste_better\" + 0.010*\"little_slow\" + 0.009*\"little_high\" + 0.009*\"real_deal\" + 0.007*\"server_attentive\" + 0.007*\"phone_number\"'),\n",
       " (16,\n",
       "  u'0.018*\"nice_touch\" + 0.018*\"live_music\" + 0.018*\"new_favorite\" + 0.010*\"gift_card\" + 0.009*\"carne_asada\" + 0.009*\"feel_rush\" + 0.009*\"cup_coffee\" + 0.009*\"sushi_chef\" + 0.007*\"food_poisoning\" + 0.006*\"parking_garage\"'),\n",
       " (17,\n",
       "  u'0.043*\"parking_lot\" + 0.027*\"onion_ring\" + 0.019*\"sweet_potato_fry\" + 0.018*\"pork_belly\" + 0.015*\"small_portion\" + 0.013*\"hotel_room\" + 0.013*\"ask_question\" + 0.012*\"medium_rare\" + 0.010*\"different_type\" + 0.010*\"wide_variety\"'),\n",
       " (18,\n",
       "  u'0.021*\"grocery_store\" + 0.017*\"prime_rib\" + 0.014*\"good_luck\" + 0.014*\"egg_roll\" + 0.013*\"old_school\" + 0.013*\"taste_bud\" + 0.012*\"perfectly_cook\" + 0.012*\"short_rib\" + 0.010*\"fall_love\" + 0.009*\"pay_extra\"'),\n",
       " (19,\n",
       "  u'0.059*\"long_time\" + 0.030*\"dining_experience\" + 0.026*\"big_fan\" + 0.023*\"pleasantly_surprised\" + 0.015*\"nail_salon\" + 0.011*\"high_expectation\" + 0.009*\"beer_tap\" + 0.009*\"breakfast_burrito\" + 0.007*\"seat_immediately\" + 0.007*\"woman_s\"'),\n",
       " (20,\n",
       "  u'0.031*\"wait_long\" + 0.028*\"absolutely_love\" + 0.020*\"food_court\" + 0.017*\"staff_member\" + 0.014*\"feel_welcome\" + 0.014*\"strip_mall\" + 0.011*\"fresh_ingredient\" + 0.011*\"goat_cheese\" + 0.011*\"know_exactly\" + 0.011*\"line_long\"'),\n",
       " (21,\n",
       "  u'0.190*\"highly_recommend\" + 0.053*\"friendly_staff\" + 0.023*\"would_ve\" + 0.017*\"item_menu\" + 0.013*\"poor_service\" + 0.009*\"office_staff\" + 0.008*\"thank_goodness\" + 0.008*\"fresh_fruit\" + 0.007*\"personal_favorite\" + 0.006*\"extremely_helpful\"'),\n",
       " (22,\n",
       "  u'0.027*\"stay_away\" + 0.025*\"feel_comfortable\" + 0.019*\"multiple_time\" + 0.018*\"little_pricey\" + 0.016*\"dining_area\" + 0.010*\"main_dish\" + 0.010*\"easy_find\" + 0.009*\"hot_fresh\" + 0.008*\"veggie_burger\" + 0.007*\"young_man\"'),\n",
       " (23,\n",
       "  u'0.158*\"feel_like\" + 0.158*\"customer_service\" + 0.076*\"ice_cream\" + 0.033*\"bad_experience\" + 0.024*\"lunch_special\" + 0.023*\"super_nice\" + 0.015*\"pretty_cool\" + 0.012*\"fish_chip\" + 0.012*\"gluten_free\" + 0.012*\"absolutely_amazing\"'),\n",
       " (24,\n",
       "  u'0.043*\"happy_hour\" + 0.025*\"long_wait\" + 0.020*\"large_group\" + 0.018*\"deep_fry\" + 0.016*\"dance_floor\" + 0.011*\"wine_selection\" + 0.009*\"worth_money\" + 0.008*\"big_portion\" + 0.008*\"worth_trip\" + 0.006*\"wine_bar\"'),\n",
       " (25,\n",
       "  u'0.027*\"wait_line\" + 0.022*\"credit_card\" + 0.017*\"cook_perfectly\" + 0.016*\"glass_wine\" + 0.013*\"sushi_bar\" + 0.011*\"chicken_sandwich\" + 0.008*\"movie_theater\" + 0.007*\"t_shirt\" + 0.006*\"gel_manicure\" + 0.006*\"wonderful_job\"'),\n",
       " (26,\n",
       "  u'0.054*\"fast_food\" + 0.043*\"reasonably_price\" + 0.017*\"burger_fry\" + 0.016*\"sit_outside\" + 0.014*\"pull_pork\" + 0.011*\"huge_portion\" + 0.009*\"big_group\" + 0.009*\"timely_manner\" + 0.008*\"long_story_short\" + 0.008*\"quick_lunch\"'),\n",
       " (27,\n",
       "  u'0.016*\"hit_spot\" + 0.013*\"high_price\" + 0.011*\"burger_joint\" + 0.009*\"mac_n_cheese\" + 0.009*\"portion_generous\" + 0.009*\"portion_large\" + 0.008*\"fry_egg\" + 0.008*\"fish_fresh\" + 0.007*\"craft_beer\" + 0.007*\"star_review\"'),\n",
       " (28,\n",
       "  u'0.027*\"fry_rice\" + 0.024*\"super_friendly\" + 0.016*\"pretty_decent\" + 0.014*\"act_like\" + 0.011*\"lack_flavor\" + 0.010*\"chain_restaurant\" + 0.009*\"miso_soup\" + 0.008*\"pool_table\" + 0.008*\"soup_salad\" + 0.008*\"extra_charge\"'),\n",
       " (29,\n",
       "  u'0.025*\"beer_selection\" + 0.019*\"mash_potato\" + 0.019*\"coffee_shop\" + 0.016*\"fast_friendly\" + 0.014*\"spring_roll\" + 0.012*\"close_home\" + 0.010*\"live_area\" + 0.009*\"mani_pedi\" + 0.009*\"foie_gra\" + 0.009*\"start_finish\"')]"
      ]
     },
     "execution_count": 165,
     "metadata": {},
     "output_type": "execute_result"
    }
   ],
   "source": [
    "lda.show_topics(num_topics = ntopics)"
   ]
  },
  {
   "cell_type": "markdown",
   "metadata": {},
   "source": [
    "# Visualize LDA"
   ]
  },
  {
   "cell_type": "code",
   "execution_count": 39,
   "metadata": {},
   "outputs": [
    {
     "name": "stderr",
     "output_type": "stream",
     "text": [
      "C:\\Users\\yangy\\AppData\\Local\\conda\\conda\\envs\\py27\\lib\\site-packages\\pyLDAvis\\_prepare.py:387: DeprecationWarning: \n",
      ".ix is deprecated. Please use\n",
      ".loc for label based indexing or\n",
      ".iloc for positional indexing\n",
      "\n",
      "See the documentation here:\n",
      "http://pandas.pydata.org/pandas-docs/stable/indexing.html#ix-indexer-is-deprecated\n",
      "  topic_term_dists = topic_term_dists.ix[topic_order]\n"
     ]
    }
   ],
   "source": [
    "import pyLDAvis.gensim\n",
    "ldaviz = pyLDAvis.gensim.prepare(lda, grammed_corpus, gensim_dictionary)\n",
    "pyLDAvis.save_html(ldaviz, '../Figures/viz_'+ldafile+'.html')"
   ]
  },
  {
   "cell_type": "markdown",
   "metadata": {},
   "source": [
    "# Some things I've done with text analysis\n",
    "1. A lot of company name matching (hotels, unstandard company names with standard ones from databases)\n",
    "    1. tokenizing$\\rightarrow$TF-IDF$\\rightarrow$Fuzzy Matching\n",
    "    2. SpaCy$\\rightarrow$Gensim$\\rightarrow$FuzzyWuzzy\n",
    "    \n",
    "2. Analyzing conversations online, such as online reviews and [manager responses to online reviews](http://journals.ama.org/doi/abs/10.1509/jmr.15.0511?journalCode=jmkr).\n",
    "    1. tokenizing$\\rightarrow$topic analysis$\\rightarrow$econometric modeling with topics as features\n",
    "    2. SpaCy$\\rightarrow$Gensim$\\rightarrow$R\n",
    "    \n",
    "3. Analyzing [performance reviews](http://www.cangrade.com) at large corporations.\n",
    "    1. tokenizing$\\rightarrow$topic analysis$\\rightarrow$machine learning\n",
    "    2. SpaCy$\\rightarrow$Gensim$\\rightarrow$TensorFlow"
   ]
  },
  {
   "cell_type": "code",
   "execution_count": null,
   "metadata": {
    "collapsed": true
   },
   "outputs": [],
   "source": []
  }
 ],
 "metadata": {
  "kernelspec": {
   "display_name": "Python 2",
   "language": "python",
   "name": "python2"
  },
  "language_info": {
   "codemirror_mode": {
    "name": "ipython",
    "version": 2
   },
   "file_extension": ".py",
   "mimetype": "text/x-python",
   "name": "python",
   "nbconvert_exporter": "python",
   "pygments_lexer": "ipython2",
   "version": "2.7.14"
  }
 },
 "nbformat": 4,
 "nbformat_minor": 2
}
